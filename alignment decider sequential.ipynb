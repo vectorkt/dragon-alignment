{
 "cells": [
  {
   "cell_type": "code",
   "execution_count": 1,
   "metadata": {},
   "outputs": [
    {
     "name": "stdout",
     "output_type": "stream",
     "text": [
      "DONE\n"
     ]
    }
   ],
   "source": [
    "#GENRATING DRAGONS\n",
    "\n",
    "import random\n",
    "from random import randint\n",
    "#print(randint(0, 9)) results in a number from [0,9]\n",
    "\n",
    "#DRAGON SECTS\n",
    "#https://pathfinderwiki.com/wiki/Dragon#Draconic_septs\n",
    "#metalic dragons=Good brass, copper, bronze, silver, and gold\n",
    "#chromatic dragons=Evil \"white\", \"black\", \"green\", \"blue\", \"red\" \n",
    "#Primal dragons=Chaotic brine, cloud, crystal, magma, and umbral\n",
    "#Outer dragons=Lawful lunar, solar, time, void, vortex\n",
    "\n",
    "#good\n",
    "metallic_dragons=[\"brass\", \"copper\", \"bronze\", \"silver\", \"gold\"]\n",
    "\n",
    "#evil\n",
    "chromatic_dragons=[\"white\", \"black\", \"green\", \"blue\", \"red\"]\n",
    "\n",
    "#chaotic\n",
    "primal_dragons=[\"brine\", \"cloud\", \"crystal\", \"magma\", \"umbral\"]\n",
    "\n",
    "#lawful\n",
    "outer_dragons=[\"lunar\", \"solar\", \"time\", \"void\", \"vortex\"]\n",
    "\n",
    "\n",
    "#dragons_sects[type][subtype]\n",
    "dragon_sects =[metallic_dragons,chromatic_dragons,primal_dragons,outer_dragons]\n",
    "\n",
    "#ALIGNMENTS\n",
    "law_chaos=[\"lawful\",\"lawful\",\"neutral\",\"chaotic\",\"chaotic\"]\n",
    "good_evil=[\"good\",\"good\",\"neutral\",\"evil\",\"evil\"]\n",
    "\n",
    "\n",
    "\n",
    "\n",
    "\n",
    "#return dragon as a string    \n",
    "def generateDragon():    \n",
    "\n",
    "    sect_nr=randint(0,len(dragon_sects)-1)\n",
    "    \n",
    "    subsect_nr=randint(0,len(dragon_sects[sect_nr])-1)\n",
    "    \n",
    "    lawfulness_nr=randint(0,len(law_chaos)-1)   \n",
    "    \n",
    "    morality_nr=randint(0,len(good_evil)-1)\n",
    "    \n",
    "    return law_chaos[lawfulness_nr]+\" \"+good_evil[morality_nr]+\" \"+dragon_sects[sect_nr][subsect_nr]+\" dragon\"\n",
    "\n",
    "\n",
    "\n",
    "#returns 0 if dragon alignment is incorrect, 1 if correct \n",
    "def generateCorectness(dragonstring):\n",
    "    \n",
    "    splitdragon=dragonstring.split()\n",
    "    \n",
    "    #print(dragon)\n",
    "    \n",
    "    #chaotic evil brass dragon\n",
    "    if splitdragon[1] == \"evil\" and splitdragon[2] in metallic_dragons:\n",
    "        #print(0)\n",
    "        return 0  \n",
    "    \n",
    "    elif splitdragon[1] == \"good\" and splitdragon[2] in chromatic_dragons:\n",
    "        #print(0)\n",
    "        return 0  \n",
    "    \n",
    "    elif splitdragon[0] == \"lawful\" and splitdragon[2] in primal_dragons:\n",
    "        #print(0)\n",
    "        return 0 \n",
    "    \n",
    "    elif splitdragon[0] == \"chaotic\" and splitdragon[2] in outer_dragons:\n",
    "        #print(0)\n",
    "        return 0 \n",
    "    \n",
    "    else:\n",
    "        #print(1)\n",
    "        return 1\n",
    "\n",
    "   \n",
    "    \n",
    "\n",
    "\n",
    "#FUNCTION TO ACTUALLY GENERATE AN ARRAY OF DRAGONS\n",
    "def generateArrays(size,generated_dragons,correctness):\n",
    "\n",
    "    for i in range(size):    \n",
    "\n",
    "        tempdragon=generateDragon()\n",
    "\n",
    "        tempcorrect=generateCorectness(tempdragon)\n",
    "\n",
    "        #print(mydragon,tempcorrect)\n",
    "\n",
    "        generated_dragons+=[tempdragon]\n",
    "        correctness+=[tempcorrect]\n",
    "\n",
    "        \n",
    "#GENERATE A TEST SET\n",
    "#testing_data=[]\n",
    "#testing_correctness=[]\n",
    "\n",
    "\n",
    "#generateArrays(100000,test_data,test_correctness)       \n",
    "    \n",
    "#for i in range(len(train_data)):\n",
    "    #print(train_data[i],train_correctness[i])\n",
    "print(\"DONE\")\n"
   ]
  },
  {
   "cell_type": "code",
   "execution_count": 3,
   "metadata": {},
   "outputs": [
    {
     "name": "stdout",
     "output_type": "stream",
     "text": [
      "chaotic good silver dragon 1\n",
      "lawful good gold dragon 1\n",
      "chaotic good brass dragon 1\n",
      "neutral neutral brass dragon 1\n",
      "lawful evil void dragon 1\n",
      "lawful good blue dragon 0\n",
      "chaotic evil umbral dragon 1\n",
      "neutral neutral copper dragon 1\n",
      "lawful good umbral dragon 0\n",
      "neutral good crystal dragon 1\n",
      "neutral good white dragon 0\n",
      "lawful evil white dragon 1\n",
      "lawful evil copper dragon 0\n",
      "lawful neutral vortex dragon 1\n",
      "lawful neutral cloud dragon 0\n",
      "lawful good black dragon 0\n",
      "chaotic evil white dragon 1\n",
      "chaotic good cloud dragon 1\n",
      "neutral evil silver dragon 0\n",
      "lawful neutral copper dragon 1\n",
      "chaotic evil magma dragon 1\n",
      "chaotic good black dragon 0\n",
      "neutral good time dragon 1\n",
      "lawful good void dragon 1\n",
      "neutral neutral magma dragon 1\n",
      "neutral evil umbral dragon 1\n",
      "lawful good crystal dragon 0\n",
      "lawful neutral vortex dragon 1\n",
      "neutral neutral green dragon 1\n",
      "neutral good umbral dragon 1\n",
      "neutral good void dragon 1\n",
      "lawful good umbral dragon 0\n",
      "chaotic good blue dragon 0\n",
      "lawful neutral copper dragon 1\n",
      "chaotic good brine dragon 1\n",
      "lawful good void dragon 1\n",
      "chaotic good solar dragon 0\n",
      "lawful evil brine dragon 0\n",
      "neutral evil gold dragon 0\n",
      "lawful evil solar dragon 1\n",
      "chaotic neutral umbral dragon 1\n",
      "neutral good cloud dragon 1\n",
      "chaotic neutral green dragon 1\n",
      "chaotic evil gold dragon 0\n",
      "chaotic good brine dragon 1\n",
      "chaotic good magma dragon 1\n",
      "lawful evil magma dragon 0\n",
      "lawful neutral time dragon 1\n",
      "lawful good green dragon 0\n",
      "neutral good lunar dragon 1\n",
      "neutral good red dragon 0\n",
      "chaotic good lunar dragon 0\n",
      "lawful neutral gold dragon 1\n",
      "chaotic evil void dragon 0\n",
      "chaotic good silver dragon 1\n",
      "neutral evil green dragon 1\n",
      "lawful good brass dragon 1\n",
      "lawful evil vortex dragon 1\n",
      "chaotic good brass dragon 1\n",
      "neutral evil lunar dragon 1\n",
      "chaotic good brass dragon 1\n",
      "lawful good silver dragon 1\n",
      "chaotic good time dragon 0\n",
      "lawful evil copper dragon 0\n",
      "chaotic evil vortex dragon 0\n",
      "lawful evil umbral dragon 0\n",
      "lawful evil solar dragon 1\n",
      "chaotic good blue dragon 0\n",
      "neutral neutral cloud dragon 1\n",
      "chaotic good void dragon 0\n",
      "chaotic evil time dragon 0\n",
      "lawful good lunar dragon 1\n",
      "lawful good void dragon 1\n",
      "lawful evil black dragon 1\n",
      "neutral evil cloud dragon 1\n",
      "chaotic evil red dragon 1\n",
      "chaotic evil gold dragon 0\n",
      "chaotic evil crystal dragon 1\n",
      "lawful neutral red dragon 1\n",
      "lawful good black dragon 0\n",
      "lawful neutral crystal dragon 0\n",
      "lawful evil brine dragon 0\n",
      "chaotic neutral crystal dragon 1\n",
      "neutral evil crystal dragon 1\n",
      "neutral neutral white dragon 1\n",
      "chaotic good time dragon 0\n",
      "lawful evil white dragon 1\n",
      "lawful good red dragon 0\n",
      "lawful evil bronze dragon 0\n",
      "lawful good green dragon 0\n",
      "lawful evil vortex dragon 1\n",
      "lawful good green dragon 0\n",
      "neutral good brass dragon 1\n",
      "lawful neutral black dragon 1\n",
      "neutral evil solar dragon 1\n",
      "chaotic evil brass dragon 0\n",
      "lawful evil brass dragon 0\n",
      "lawful evil red dragon 1\n",
      "chaotic neutral void dragon 0\n",
      "lawful good brass dragon 1\n",
      "40046 59954\n"
     ]
    },
    {
     "data": {
      "image/png": "[encoded data removed]",
      "text/plain": [
       "<Figure size 432x288 with 1 Axes>"
      ]
     },
     "metadata": {},
     "output_type": "display_data"
    },
    {
     "data": {
      "image/png": "[encoded data removed]",
      "text/plain": [
       "<Figure size 432x288 with 1 Axes>"
      ]
     },
     "metadata": {},
     "output_type": "display_data"
    },
    {
     "name": "stdout",
     "output_type": "stream",
     "text": [
      "DONE\n"
     ]
    }
   ],
   "source": [
    "#GENERATE DATA SETS\n",
    "import matplotlib.pyplot as plt\n",
    "\n",
    "train_size=100000\n",
    "train_data=[]\n",
    "train_correctness=[]\n",
    "\n",
    "test_size=100\n",
    "test_data=[]\n",
    "test_correctness=[]\n",
    "\n",
    "\n",
    "\n",
    "generateArrays(train_size,train_data,train_correctness)\n",
    "generateArrays(test_size,test_data,test_correctness)\n",
    "\n",
    "#for t in range(train_size):\n",
    "    #print(train_data[t],train_correctness[t])\n",
    "#print(\"DONE\")\n",
    "\n",
    "for t in range(test_size):\n",
    "    print(test_data[t],test_correctness[t])\n",
    "\n",
    "print(train_correctness.count(0),train_correctness.count(1))\n",
    "plt.plot([train_correctness.count(0),train_correctness.count(1)],'ro')\n",
    "plt.axis([-1,2,0,train_size])\n",
    "plt.show()\n",
    "\n",
    "\n",
    "labels = \"misaligned dragons\",\"aligned dragons\"\n",
    "sizes = train_correctness.count(0),train_correctness.count(1)\n",
    "colors = 'yellow','aquamarine'\n",
    "explode=(0.1,0)\n",
    "plt.pie(sizes,explode=explode, labels=labels,colors=colors,autopct='%1.1f%%', shadow=True, startangle=140)\n",
    "plt.axis('equal')\n",
    "plt.show()\n",
    "\n",
    "\n",
    "print(\"DONE\")\n",
    "\n",
    "    "
   ]
  },
  {
   "cell_type": "code",
   "execution_count": 4,
   "metadata": {},
   "outputs": [
    {
     "name": "stdout",
     "output_type": "stream",
     "text": [
      "DONE\n"
     ]
    },
    {
     "name": "stderr",
     "output_type": "stream",
     "text": [
      "Using TensorFlow backend.\n"
     ]
    }
   ],
   "source": [
    "#IMPORTING STUFF\n",
    "import tensorflow as ts\n",
    "import keras as ks\n",
    "import numpy as np\n",
    "\n",
    "\n",
    "from keras.layers.core import Dense, Activation\n",
    "from keras.optimizers import SGD,RMSprop,Adam \n",
    "from keras.models import Sequential\n",
    "from keras.utils import np_utils\n",
    "print(\"DONE\")"
   ]
  },
  {
   "cell_type": "code",
   "execution_count": 5,
   "metadata": {},
   "outputs": [
    {
     "name": "stdout",
     "output_type": "stream",
     "text": [
      "done\n"
     ]
    }
   ],
   "source": [
    "#MAGIC NUMBERS\n",
    "nr_neurons_in_first_layer=100\n",
    "nr_neurons_in_second_layer=10\n",
    "nr_classes=2\n",
    "optimizer=Adam()\n",
    "my_batch_size=100\n",
    "my_epochs=10\n",
    "print(\"done\")"
   ]
  },
  {
   "cell_type": "code",
   "execution_count": 6,
   "metadata": {},
   "outputs": [
    {
     "name": "stdout",
     "output_type": "stream",
     "text": [
      "[[ 4  3 12  1]\n",
      " [ 4  2 19  1]\n",
      " [ 2  5 22  1]\n",
      " ...\n",
      " [ 4  5 19  1]\n",
      " [ 4  3 15  1]\n",
      " [ 4  3 26  1]]\n",
      "[[0. 1.]\n",
      " [0. 1.]\n",
      " [0. 1.]\n",
      " [0. 1.]\n",
      " [0. 1.]\n",
      " [1. 0.]\n",
      " [0. 1.]\n",
      " [0. 1.]\n",
      " [1. 0.]\n",
      " [0. 1.]\n",
      " [1. 0.]\n",
      " [0. 1.]\n",
      " [1. 0.]\n",
      " [0. 1.]\n",
      " [1. 0.]\n",
      " [1. 0.]\n",
      " [0. 1.]\n",
      " [0. 1.]\n",
      " [1. 0.]\n",
      " [0. 1.]\n",
      " [0. 1.]\n",
      " [1. 0.]\n",
      " [0. 1.]\n",
      " [0. 1.]\n",
      " [0. 1.]\n",
      " [0. 1.]\n",
      " [1. 0.]\n",
      " [0. 1.]\n",
      " [0. 1.]\n",
      " [0. 1.]\n",
      " [0. 1.]\n",
      " [1. 0.]\n",
      " [1. 0.]\n",
      " [0. 1.]\n",
      " [0. 1.]\n",
      " [0. 1.]\n",
      " [1. 0.]\n",
      " [1. 0.]\n",
      " [1. 0.]\n",
      " [0. 1.]\n",
      " [0. 1.]\n",
      " [0. 1.]\n",
      " [0. 1.]\n",
      " [1. 0.]\n",
      " [0. 1.]\n",
      " [0. 1.]\n",
      " [1. 0.]\n",
      " [0. 1.]\n",
      " [1. 0.]\n",
      " [0. 1.]\n",
      " [1. 0.]\n",
      " [1. 0.]\n",
      " [0. 1.]\n",
      " [1. 0.]\n",
      " [0. 1.]\n",
      " [0. 1.]\n",
      " [0. 1.]\n",
      " [0. 1.]\n",
      " [0. 1.]\n",
      " [0. 1.]\n",
      " [0. 1.]\n",
      " [0. 1.]\n",
      " [1. 0.]\n",
      " [1. 0.]\n",
      " [1. 0.]\n",
      " [1. 0.]\n",
      " [0. 1.]\n",
      " [1. 0.]\n",
      " [0. 1.]\n",
      " [1. 0.]\n",
      " [1. 0.]\n",
      " [0. 1.]\n",
      " [0. 1.]\n",
      " [0. 1.]\n",
      " [0. 1.]\n",
      " [0. 1.]\n",
      " [1. 0.]\n",
      " [0. 1.]\n",
      " [0. 1.]\n",
      " [1. 0.]\n",
      " [1. 0.]\n",
      " [1. 0.]\n",
      " [0. 1.]\n",
      " [0. 1.]\n",
      " [0. 1.]\n",
      " [1. 0.]\n",
      " [0. 1.]\n",
      " [1. 0.]\n",
      " [1. 0.]\n",
      " [1. 0.]\n",
      " [0. 1.]\n",
      " [1. 0.]\n",
      " [0. 1.]\n",
      " [0. 1.]\n",
      " [0. 1.]\n",
      " [1. 0.]\n",
      " [1. 0.]\n",
      " [0. 1.]\n",
      " [1. 0.]\n",
      " [0. 1.]]\n",
      "done\n"
     ]
    }
   ],
   "source": [
    "#FITTIN DATA\n",
    "#tokenizing strings\n",
    "from keras.preprocessing.text import Tokenizer\n",
    "from keras.preprocessing.sequence import pad_sequences\n",
    "\n",
    "tk = Tokenizer()\n",
    "tk.fit_on_texts(train_data)\n",
    "index_list = tk.texts_to_sequences(train_data)\n",
    "train_data = pad_sequences(index_list)#x_train = pad_sequences(index_list, maxlen=maxlen)\n",
    "\n",
    "tk.fit_on_texts(test_data)\n",
    "index_list = tk.texts_to_sequences(test_data)\n",
    "test_data = pad_sequences(index_list)#x_train = pad_sequences(index_list, maxlen=maxlen)\n",
    "\n",
    "\n",
    "#one hot encoding\n",
    "train_correctness=np_utils.to_categorical(train_correctness, nr_classes)\n",
    "\n",
    "test_correctness=np_utils.to_categorical(test_correctness, nr_classes)\n",
    "\n",
    "\n",
    "\n",
    "print(train_data)\n",
    "print(test_correctness)\n",
    "print(\"done\")"
   ]
  },
  {
   "cell_type": "code",
   "execution_count": 7,
   "metadata": {},
   "outputs": [
    {
     "name": "stdout",
     "output_type": "stream",
     "text": [
      "_________________________________________________________________\n",
      "Layer (type)                 Output Shape              Param #   \n",
      "=================================================================\n",
      "dense_1 (Dense)              (None, 100)               500       \n",
      "_________________________________________________________________\n",
      "dense_2 (Dense)              (None, 10)                1010      \n",
      "_________________________________________________________________\n",
      "dense_3 (Dense)              (None, 2)                 22        \n",
      "=================================================================\n",
      "Total params: 1,532\n",
      "Trainable params: 1,532\n",
      "Non-trainable params: 0\n",
      "_________________________________________________________________\n"
     ]
    }
   ],
   "source": [
    "#BULIDING A MODEL\n",
    "model=Sequential()\n",
    "model.add(Dense(nr_neurons_in_first_layer, input_shape=(4,), activation='relu' ))\n",
    "model.add(Dense(nr_neurons_in_second_layer, activation='relu'))\n",
    "model.add(Dense(nr_classes, activation='softmax' ))\n",
    "\n",
    "\n",
    "model.summary()"
   ]
  },
  {
   "cell_type": "code",
   "execution_count": 8,
   "metadata": {},
   "outputs": [
    {
     "name": "stdout",
     "output_type": "stream",
     "text": [
      "done\n"
     ]
    }
   ],
   "source": [
    "#COMPILING MODEL\n",
    "model.compile(loss='categorical_crossentropy', optimizer=optimizer, metrics=['accuracy'])\n",
    "print(\"done\")"
   ]
  },
  {
   "cell_type": "code",
   "execution_count": 9,
   "metadata": {
    "scrolled": true
   },
   "outputs": [
    {
     "name": "stdout",
     "output_type": "stream",
     "text": [
      "Train on 80000 samples, validate on 20000 samples\n",
      "Epoch 1/10\n",
      "80000/80000 [==============================] - 1s 13us/step - loss: 0.6199 - acc: 0.6526 - val_loss: 0.5837 - val_acc: 0.7014\n",
      "Epoch 2/10\n",
      "80000/80000 [==============================] - 1s 10us/step - loss: 0.5728 - acc: 0.7057 - val_loss: 0.5589 - val_acc: 0.7194\n",
      "Epoch 3/10\n",
      "80000/80000 [==============================] - 1s 10us/step - loss: 0.5497 - acc: 0.7236 - val_loss: 0.5371 - val_acc: 0.7388\n",
      "Epoch 4/10\n",
      "80000/80000 [==============================] - 1s 9us/step - loss: 0.5331 - acc: 0.7314 - val_loss: 0.5221 - val_acc: 0.7314\n",
      "Epoch 5/10\n",
      "80000/80000 [==============================] - 1s 10us/step - loss: 0.5166 - acc: 0.7365 - val_loss: 0.5082 - val_acc: 0.7259\n",
      "Epoch 6/10\n",
      "80000/80000 [==============================] - 1s 10us/step - loss: 0.5094 - acc: 0.7378 - val_loss: 0.5202 - val_acc: 0.7130\n",
      "Epoch 7/10\n",
      "80000/80000 [==============================] - 1s 10us/step - loss: 0.5015 - acc: 0.7391 - val_loss: 0.5100 - val_acc: 0.7262\n",
      "Epoch 8/10\n",
      "80000/80000 [==============================] - 1s 10us/step - loss: 0.4951 - acc: 0.7411 - val_loss: 0.4959 - val_acc: 0.7320\n",
      "Epoch 9/10\n",
      "80000/80000 [==============================] - 1s 11us/step - loss: 0.4918 - acc: 0.7426 - val_loss: 0.4860 - val_acc: 0.7651\n",
      "Epoch 10/10\n",
      "80000/80000 [==============================] - 1s 10us/step - loss: 0.4874 - acc: 0.7468 - val_loss: 0.4972 - val_acc: 0.7327\n",
      "done\n"
     ]
    }
   ],
   "source": [
    "#history = model.fit(x_train, y_train_onehot, batch_size=b_size, epochs=epoch, verbose=1, validation_split=0.2)\n",
    "\n",
    "history= model.fit(train_data,train_correctness, batch_size=my_batch_size, epochs=my_epochs, verbose=1, validation_split=0.2)\n",
    "print(\"done\")"
   ]
  },
  {
   "cell_type": "code",
   "execution_count": 10,
   "metadata": {
    "scrolled": true
   },
   "outputs": [
    {
     "name": "stdout",
     "output_type": "stream",
     "text": [
      "100/100 [==============================] - 0s 120us/step\n"
     ]
    }
   ],
   "source": [
    "score = model.evaluate(test_data,test_correctness)"
   ]
  },
  {
   "cell_type": "code",
   "execution_count": 11,
   "metadata": {},
   "outputs": [
    {
     "name": "stdout",
     "output_type": "stream",
     "text": [
      "score:  0.5214962673187256\n",
      "accuracy:  0.74\n"
     ]
    }
   ],
   "source": [
    "print(\"score: \",score[0])\n",
    "print(\"accuracy: \",score[1])"
   ]
  }
 ],
 "metadata": {
  "kernelspec": {
   "display_name": "Python 3",
   "language": "python",
   "name": "python3"
  },
  "language_info": {
   "codemirror_mode": {
    "name": "ipython",
    "version": 3
   },
   "file_extension": ".py",
   "mimetype": "text/x-python",
   "name": "python",
   "nbconvert_exporter": "python",
   "pygments_lexer": "ipython3",
   "version": "3.5.5"
  }
 },
 "nbformat": 4,
 "nbformat_minor": 2
}
